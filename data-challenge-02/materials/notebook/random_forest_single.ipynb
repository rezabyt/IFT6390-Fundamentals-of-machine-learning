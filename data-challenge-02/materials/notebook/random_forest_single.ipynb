{
 "cells": [
  {
   "cell_type": "markdown",
   "id": "083e387e",
   "metadata": {},
   "source": [
    "### Importing packages"
   ]
  },
  {
   "cell_type": "code",
   "execution_count": 42,
   "id": "4f716a07",
   "metadata": {},
   "outputs": [],
   "source": [
    "import numpy as np\n",
    "import pandas as pd\n",
    "import seaborn as sns\n",
    "\n",
    "from sklearn.metrics import balanced_accuracy_score\n",
    "from sklearn.metrics import confusion_matrix\n",
    "from sklearn.ensemble import RandomForestClassifier\n",
    "from sklearn.model_selection import GridSearchCV\n",
    "from sklearn.metrics import f1_score\n",
    "from sklearn import metrics\n",
    "\n",
    "import matplotlib.pyplot as plt"
   ]
  },
  {
   "cell_type": "markdown",
   "id": "051d8da4",
   "metadata": {},
   "source": [
    "### Setting the random seed to get same results everytime."
   ]
  },
  {
   "cell_type": "code",
   "execution_count": 43,
   "id": "b81ceda2",
   "metadata": {},
   "outputs": [],
   "source": [
    "np.random.seed(2)"
   ]
  },
  {
   "cell_type": "markdown",
   "id": "084504d6",
   "metadata": {},
   "source": [
    "### reading and preparing the dataset"
   ]
  },
  {
   "cell_type": "code",
   "execution_count": 44,
   "id": "c9e6abf4",
   "metadata": {},
   "outputs": [],
   "source": [
    "data = pd.read_csv('../data/cropharvest-crop-detection/train.csv', index_col=0)"
   ]
  },
  {
   "cell_type": "code",
   "execution_count": 45,
   "id": "e78a25d0",
   "metadata": {},
   "outputs": [
    {
     "name": "stdout",
     "output_type": "stream",
     "text": [
      "<class 'pandas.core.frame.DataFrame'>\n",
      "Int64Index: 62000 entries, 0 to 61999\n",
      "Columns: 217 entries, S2_B2_jan to LABELS\n",
      "dtypes: float64(217)\n",
      "memory usage: 103.1 MB\n"
     ]
    }
   ],
   "source": [
    "data.info()"
   ]
  },
  {
   "cell_type": "code",
   "execution_count": 46,
   "id": "fbb27eb3",
   "metadata": {},
   "outputs": [
    {
     "data": {
      "text/html": [
       "<div>\n",
       "<style scoped>\n",
       "    .dataframe tbody tr th:only-of-type {\n",
       "        vertical-align: middle;\n",
       "    }\n",
       "\n",
       "    .dataframe tbody tr th {\n",
       "        vertical-align: top;\n",
       "    }\n",
       "\n",
       "    .dataframe thead th {\n",
       "        text-align: right;\n",
       "    }\n",
       "</style>\n",
       "<table border=\"1\" class=\"dataframe\">\n",
       "  <thead>\n",
       "    <tr style=\"text-align: right;\">\n",
       "      <th></th>\n",
       "      <th>S2_B2_jan</th>\n",
       "      <th>S2_B3_jan</th>\n",
       "      <th>S2_B4_jan</th>\n",
       "      <th>S2_B5_jan</th>\n",
       "      <th>S2_B6_jan</th>\n",
       "      <th>S2_B7_jan</th>\n",
       "      <th>S2_B8_jan</th>\n",
       "      <th>S2_B8A_jan</th>\n",
       "      <th>S2_B9_jan</th>\n",
       "      <th>S2_B11_jan</th>\n",
       "      <th>...</th>\n",
       "      <th>S2_B11_dec</th>\n",
       "      <th>S2_B12_dec</th>\n",
       "      <th>S1_VV_dec</th>\n",
       "      <th>S1_VH_dec</th>\n",
       "      <th>ERA5_temperature_2m_dec</th>\n",
       "      <th>ERA5_total_precipitation_dec</th>\n",
       "      <th>topo_elevation_dec</th>\n",
       "      <th>topo_slope_dec</th>\n",
       "      <th>NDVI_dec</th>\n",
       "      <th>LABELS</th>\n",
       "    </tr>\n",
       "  </thead>\n",
       "  <tbody>\n",
       "    <tr>\n",
       "      <th>0</th>\n",
       "      <td>-14.271277</td>\n",
       "      <td>-21.134172</td>\n",
       "      <td>957.531174</td>\n",
       "      <td>1019.557045</td>\n",
       "      <td>1230.022834</td>\n",
       "      <td>1435.138891</td>\n",
       "      <td>1693.702270</td>\n",
       "      <td>1805.411109</td>\n",
       "      <td>1891.557355</td>\n",
       "      <td>2020.567257</td>\n",
       "      <td>...</td>\n",
       "      <td>2203.025469</td>\n",
       "      <td>795.862978</td>\n",
       "      <td>2747.777894</td>\n",
       "      <td>1688.997611</td>\n",
       "      <td>289.382220</td>\n",
       "      <td>0.000147</td>\n",
       "      <td>1886.384195</td>\n",
       "      <td>0.749163</td>\n",
       "      <td>0.307887</td>\n",
       "      <td>0.0</td>\n",
       "    </tr>\n",
       "    <tr>\n",
       "      <th>1</th>\n",
       "      <td>-12.341429</td>\n",
       "      <td>-14.744978</td>\n",
       "      <td>949.227883</td>\n",
       "      <td>895.845779</td>\n",
       "      <td>987.517322</td>\n",
       "      <td>1350.496916</td>\n",
       "      <td>1930.239804</td>\n",
       "      <td>2048.686546</td>\n",
       "      <td>2375.680146</td>\n",
       "      <td>2259.903290</td>\n",
       "      <td>...</td>\n",
       "      <td>2922.382762</td>\n",
       "      <td>1140.796180</td>\n",
       "      <td>2528.590979</td>\n",
       "      <td>1934.261859</td>\n",
       "      <td>266.578370</td>\n",
       "      <td>0.002876</td>\n",
       "      <td>69.876216</td>\n",
       "      <td>1.385904</td>\n",
       "      <td>0.097779</td>\n",
       "      <td>1.0</td>\n",
       "    </tr>\n",
       "    <tr>\n",
       "      <th>2</th>\n",
       "      <td>-12.317847</td>\n",
       "      <td>-17.026201</td>\n",
       "      <td>1087.616069</td>\n",
       "      <td>1086.401035</td>\n",
       "      <td>1185.755955</td>\n",
       "      <td>1529.674085</td>\n",
       "      <td>1858.981635</td>\n",
       "      <td>1904.667487</td>\n",
       "      <td>2082.954737</td>\n",
       "      <td>2115.713139</td>\n",
       "      <td>...</td>\n",
       "      <td>2548.726966</td>\n",
       "      <td>521.102434</td>\n",
       "      <td>1556.082048</td>\n",
       "      <td>741.212901</td>\n",
       "      <td>276.467873</td>\n",
       "      <td>0.001622</td>\n",
       "      <td>91.279743</td>\n",
       "      <td>2.125908</td>\n",
       "      <td>0.418492</td>\n",
       "      <td>1.0</td>\n",
       "    </tr>\n",
       "    <tr>\n",
       "      <th>3</th>\n",
       "      <td>-15.332478</td>\n",
       "      <td>-20.978203</td>\n",
       "      <td>2987.224569</td>\n",
       "      <td>3163.553102</td>\n",
       "      <td>3412.572434</td>\n",
       "      <td>3908.443371</td>\n",
       "      <td>4044.232162</td>\n",
       "      <td>4231.353770</td>\n",
       "      <td>3682.709329</td>\n",
       "      <td>4518.882323</td>\n",
       "      <td>...</td>\n",
       "      <td>2537.545246</td>\n",
       "      <td>1073.588565</td>\n",
       "      <td>2388.141112</td>\n",
       "      <td>1367.682434</td>\n",
       "      <td>276.101799</td>\n",
       "      <td>0.003720</td>\n",
       "      <td>767.817294</td>\n",
       "      <td>8.427714</td>\n",
       "      <td>0.336528</td>\n",
       "      <td>1.0</td>\n",
       "    </tr>\n",
       "    <tr>\n",
       "      <th>4</th>\n",
       "      <td>-11.739502</td>\n",
       "      <td>-11.374262</td>\n",
       "      <td>691.825857</td>\n",
       "      <td>782.111227</td>\n",
       "      <td>478.448214</td>\n",
       "      <td>976.753128</td>\n",
       "      <td>3189.134129</td>\n",
       "      <td>3813.893119</td>\n",
       "      <td>3861.824527</td>\n",
       "      <td>4174.591554</td>\n",
       "      <td>...</td>\n",
       "      <td>4276.302643</td>\n",
       "      <td>371.861994</td>\n",
       "      <td>2080.641023</td>\n",
       "      <td>692.730434</td>\n",
       "      <td>298.663246</td>\n",
       "      <td>0.001763</td>\n",
       "      <td>61.500923</td>\n",
       "      <td>1.203899</td>\n",
       "      <td>0.595404</td>\n",
       "      <td>1.0</td>\n",
       "    </tr>\n",
       "  </tbody>\n",
       "</table>\n",
       "<p>5 rows × 217 columns</p>\n",
       "</div>"
      ],
      "text/plain": [
       "   S2_B2_jan  S2_B3_jan    S2_B4_jan    S2_B5_jan    S2_B6_jan    S2_B7_jan  \\\n",
       "0 -14.271277 -21.134172   957.531174  1019.557045  1230.022834  1435.138891   \n",
       "1 -12.341429 -14.744978   949.227883   895.845779   987.517322  1350.496916   \n",
       "2 -12.317847 -17.026201  1087.616069  1086.401035  1185.755955  1529.674085   \n",
       "3 -15.332478 -20.978203  2987.224569  3163.553102  3412.572434  3908.443371   \n",
       "4 -11.739502 -11.374262   691.825857   782.111227   478.448214   976.753128   \n",
       "\n",
       "     S2_B8_jan   S2_B8A_jan    S2_B9_jan   S2_B11_jan  ...   S2_B11_dec  \\\n",
       "0  1693.702270  1805.411109  1891.557355  2020.567257  ...  2203.025469   \n",
       "1  1930.239804  2048.686546  2375.680146  2259.903290  ...  2922.382762   \n",
       "2  1858.981635  1904.667487  2082.954737  2115.713139  ...  2548.726966   \n",
       "3  4044.232162  4231.353770  3682.709329  4518.882323  ...  2537.545246   \n",
       "4  3189.134129  3813.893119  3861.824527  4174.591554  ...  4276.302643   \n",
       "\n",
       "    S2_B12_dec    S1_VV_dec    S1_VH_dec  ERA5_temperature_2m_dec  \\\n",
       "0   795.862978  2747.777894  1688.997611               289.382220   \n",
       "1  1140.796180  2528.590979  1934.261859               266.578370   \n",
       "2   521.102434  1556.082048   741.212901               276.467873   \n",
       "3  1073.588565  2388.141112  1367.682434               276.101799   \n",
       "4   371.861994  2080.641023   692.730434               298.663246   \n",
       "\n",
       "   ERA5_total_precipitation_dec  topo_elevation_dec  topo_slope_dec  NDVI_dec  \\\n",
       "0                      0.000147         1886.384195        0.749163  0.307887   \n",
       "1                      0.002876           69.876216        1.385904  0.097779   \n",
       "2                      0.001622           91.279743        2.125908  0.418492   \n",
       "3                      0.003720          767.817294        8.427714  0.336528   \n",
       "4                      0.001763           61.500923        1.203899  0.595404   \n",
       "\n",
       "   LABELS  \n",
       "0     0.0  \n",
       "1     1.0  \n",
       "2     1.0  \n",
       "3     1.0  \n",
       "4     1.0  \n",
       "\n",
       "[5 rows x 217 columns]"
      ]
     },
     "execution_count": 46,
     "metadata": {},
     "output_type": "execute_result"
    }
   ],
   "source": [
    "data.head()"
   ]
  },
  {
   "cell_type": "markdown",
   "id": "ac43d715",
   "metadata": {},
   "source": [
    "### Splitting the dataset to train and validation datasets."
   ]
  },
  {
   "cell_type": "code",
   "execution_count": 47,
   "id": "fd395e89",
   "metadata": {},
   "outputs": [],
   "source": [
    "data = data.values\n",
    "\n",
    "\n",
    "inds = np.arange(data.shape[0])\n",
    "np.random.shuffle(inds)\n",
    "num_train = int(0.8 * data.shape[0])\n",
    "train_inds = inds[:num_train]\n",
    "val_inds = inds[num_train:]\n",
    "\n",
    "trainset = data[train_inds] \n",
    "valset = data[val_inds]\n",
    "\n",
    "\n",
    "train_X = trainset[:, :-1]\n",
    "train_y = trainset[:, -1]\n",
    "\n",
    "val_X = valset[:, :-1]\n",
    "val_y = valset[:, -1]"
   ]
  },
  {
   "cell_type": "markdown",
   "id": "f923cdad",
   "metadata": {},
   "source": [
    "# Random Forest with Grid Searching"
   ]
  },
  {
   "cell_type": "code",
   "execution_count": 7,
   "id": "9e8ab5dd",
   "metadata": {},
   "outputs": [
    {
     "name": "stdout",
     "output_type": "stream",
     "text": [
      "accuracy: 0.8503225806451613\n",
      "balanced_accuracy_score: 0.8397271366185519\n",
      "confusion_matrix:\n",
      " [[3060 1151]\n",
      " [ 705 7484]]\n",
      "fr_score: 0.8896814075130764\n"
     ]
    }
   ],
   "source": [
    "param_grid = {\n",
    "    \"n_estimators\": [100, 1000],\n",
    "    \"min_samples_leaf\": [3, 5, 11, 30],\n",
    "    \"bootstrap\": [False, True]\n",
    "}\n",
    "\n",
    "clf = GridSearchCV(RandomForestClassifier(), param_grid).fit(train_X, train_y)\n",
    "\n",
    "y_pred = clf.predict(val_X)\n",
    "print('accuracy:', clf.score(val_X, val_y))\n",
    "print('balanced_accuracy_score:', balanced_accuracy_score(y_pred, val_y))\n",
    "print('confusion_matrix:\\n', confusion_matrix(val_y, y_pred))\n",
    "print('fr_score:', f1_score(val_y, y_pred))"
   ]
  },
  {
   "cell_type": "code",
   "execution_count": 48,
   "id": "d18c56f3",
   "metadata": {},
   "outputs": [
    {
     "data": {
      "image/png": "[encoded data removed]",
      "text/plain": [
       "<Figure size 432x288 with 1 Axes>"
      ]
     },
     "metadata": {
      "needs_background": "light"
     },
     "output_type": "display_data"
    }
   ],
   "source": [
    "# Plotting ROC curve \n",
    "fpr, tpr, _ = metrics.roc_curve(val_y,  y_pred)\n",
    "\n",
    "plt.plot(fpr,tpr)\n",
    "plt.ylabel('True Positive Rate')\n",
    "plt.xlabel('False Positive Rate')\n",
    "plt.savefig('roc_curve.png', dpi=300)"
   ]
  },
  {
   "cell_type": "code",
   "execution_count": 49,
   "id": "69d9585b",
   "metadata": {},
   "outputs": [
    {
     "name": "stdout",
     "output_type": "stream",
     "text": [
      "best_params: {'bootstrap': False, 'min_samples_leaf': 3, 'n_estimators': 1000}\n"
     ]
    }
   ],
   "source": [
    "print('best_params:', clf.best_params_)"
   ]
  },
  {
   "cell_type": "code",
   "execution_count": 50,
   "id": "da0d0fbb",
   "metadata": {},
   "outputs": [
    {
     "data": {
      "image/png": "[encoded data removed]",
      "text/plain": [
       "<Figure size 432x288 with 2 Axes>"
      ]
     },
     "metadata": {
      "needs_background": "light"
     },
     "output_type": "display_data"
    }
   ],
   "source": [
    "conf_matrix = confusion_matrix(val_y, y_pred)\n",
    "sns.heatmap(conf_matrix, annot=True, fmt=\"d\")\n",
    "plt.savefig('conf_matrix.png', dpi = 300)"
   ]
  },
  {
   "cell_type": "markdown",
   "id": "7e54cc86",
   "metadata": {},
   "source": [
    "# Making predictions and saving the results in CSV file"
   ]
  },
  {
   "cell_type": "code",
   "execution_count": 51,
   "id": "548f3b42",
   "metadata": {},
   "outputs": [],
   "source": [
    "test_data = pd.read_csv('../data/cropharvest-crop-detection/test_nolabels.csv', index_col=0)"
   ]
  },
  {
   "cell_type": "code",
   "execution_count": 52,
   "id": "cdecb45a",
   "metadata": {},
   "outputs": [
    {
     "data": {
      "text/html": [
       "<div>\n",
       "<style scoped>\n",
       "    .dataframe tbody tr th:only-of-type {\n",
       "        vertical-align: middle;\n",
       "    }\n",
       "\n",
       "    .dataframe tbody tr th {\n",
       "        vertical-align: top;\n",
       "    }\n",
       "\n",
       "    .dataframe thead th {\n",
       "        text-align: right;\n",
       "    }\n",
       "</style>\n",
       "<table border=\"1\" class=\"dataframe\">\n",
       "  <thead>\n",
       "    <tr style=\"text-align: right;\">\n",
       "      <th></th>\n",
       "      <th>S2_B2_jan</th>\n",
       "      <th>S2_B3_jan</th>\n",
       "      <th>S2_B4_jan</th>\n",
       "      <th>S2_B5_jan</th>\n",
       "      <th>S2_B6_jan</th>\n",
       "      <th>S2_B7_jan</th>\n",
       "      <th>S2_B8_jan</th>\n",
       "      <th>S2_B8A_jan</th>\n",
       "      <th>S2_B9_jan</th>\n",
       "      <th>S2_B11_jan</th>\n",
       "      <th>...</th>\n",
       "      <th>S2_B9_dec</th>\n",
       "      <th>S2_B11_dec</th>\n",
       "      <th>S2_B12_dec</th>\n",
       "      <th>S1_VV_dec</th>\n",
       "      <th>S1_VH_dec</th>\n",
       "      <th>ERA5_temperature_2m_dec</th>\n",
       "      <th>ERA5_total_precipitation_dec</th>\n",
       "      <th>topo_elevation_dec</th>\n",
       "      <th>topo_slope_dec</th>\n",
       "      <th>NDVI_dec</th>\n",
       "    </tr>\n",
       "    <tr>\n",
       "      <th>S.No</th>\n",
       "      <th></th>\n",
       "      <th></th>\n",
       "      <th></th>\n",
       "      <th></th>\n",
       "      <th></th>\n",
       "      <th></th>\n",
       "      <th></th>\n",
       "      <th></th>\n",
       "      <th></th>\n",
       "      <th></th>\n",
       "      <th></th>\n",
       "      <th></th>\n",
       "      <th></th>\n",
       "      <th></th>\n",
       "      <th></th>\n",
       "      <th></th>\n",
       "      <th></th>\n",
       "      <th></th>\n",
       "      <th></th>\n",
       "      <th></th>\n",
       "      <th></th>\n",
       "    </tr>\n",
       "  </thead>\n",
       "  <tbody>\n",
       "    <tr>\n",
       "      <th>0</th>\n",
       "      <td>-17.649477</td>\n",
       "      <td>-24.327178</td>\n",
       "      <td>1111.603354</td>\n",
       "      <td>1190.158872</td>\n",
       "      <td>1361.861147</td>\n",
       "      <td>1436.238138</td>\n",
       "      <td>1350.277481</td>\n",
       "      <td>1382.111848</td>\n",
       "      <td>1419.716749</td>\n",
       "      <td>1410.456550</td>\n",
       "      <td>...</td>\n",
       "      <td>777.782928</td>\n",
       "      <td>966.513644</td>\n",
       "      <td>467.731680</td>\n",
       "      <td>1045.355257</td>\n",
       "      <td>633.790963</td>\n",
       "      <td>296.952437</td>\n",
       "      <td>0.000092</td>\n",
       "      <td>276.466775</td>\n",
       "      <td>0.765980</td>\n",
       "      <td>0.000600</td>\n",
       "    </tr>\n",
       "    <tr>\n",
       "      <th>1</th>\n",
       "      <td>-14.559686</td>\n",
       "      <td>-19.936119</td>\n",
       "      <td>1764.795592</td>\n",
       "      <td>1856.603435</td>\n",
       "      <td>2156.740323</td>\n",
       "      <td>2633.317506</td>\n",
       "      <td>2731.894209</td>\n",
       "      <td>2878.742338</td>\n",
       "      <td>2621.323845</td>\n",
       "      <td>3201.553256</td>\n",
       "      <td>...</td>\n",
       "      <td>2026.702042</td>\n",
       "      <td>2292.479225</td>\n",
       "      <td>791.909589</td>\n",
       "      <td>2902.059945</td>\n",
       "      <td>1728.924349</td>\n",
       "      <td>298.468523</td>\n",
       "      <td>0.000139</td>\n",
       "      <td>187.130317</td>\n",
       "      <td>2.598537</td>\n",
       "      <td>0.217297</td>\n",
       "    </tr>\n",
       "    <tr>\n",
       "      <th>2</th>\n",
       "      <td>-14.208844</td>\n",
       "      <td>-21.404320</td>\n",
       "      <td>1210.320260</td>\n",
       "      <td>1246.028476</td>\n",
       "      <td>1523.531488</td>\n",
       "      <td>1706.652761</td>\n",
       "      <td>2014.364032</td>\n",
       "      <td>2198.544215</td>\n",
       "      <td>2277.422666</td>\n",
       "      <td>2547.302707</td>\n",
       "      <td>...</td>\n",
       "      <td>2103.697056</td>\n",
       "      <td>2369.819453</td>\n",
       "      <td>893.709359</td>\n",
       "      <td>3217.008133</td>\n",
       "      <td>2158.612101</td>\n",
       "      <td>298.045025</td>\n",
       "      <td>0.000104</td>\n",
       "      <td>324.857357</td>\n",
       "      <td>0.758805</td>\n",
       "      <td>0.230539</td>\n",
       "    </tr>\n",
       "    <tr>\n",
       "      <th>3</th>\n",
       "      <td>-13.895412</td>\n",
       "      <td>-21.169488</td>\n",
       "      <td>1550.755198</td>\n",
       "      <td>1541.339240</td>\n",
       "      <td>1732.355678</td>\n",
       "      <td>1828.669115</td>\n",
       "      <td>1876.796177</td>\n",
       "      <td>2001.004560</td>\n",
       "      <td>1996.979443</td>\n",
       "      <td>2212.820792</td>\n",
       "      <td>...</td>\n",
       "      <td>2101.697185</td>\n",
       "      <td>2372.614882</td>\n",
       "      <td>841.326953</td>\n",
       "      <td>3259.568699</td>\n",
       "      <td>1979.892417</td>\n",
       "      <td>298.534272</td>\n",
       "      <td>0.000130</td>\n",
       "      <td>184.338553</td>\n",
       "      <td>1.132985</td>\n",
       "      <td>0.214938</td>\n",
       "    </tr>\n",
       "    <tr>\n",
       "      <th>4</th>\n",
       "      <td>-11.562658</td>\n",
       "      <td>-13.594914</td>\n",
       "      <td>1171.571568</td>\n",
       "      <td>1143.268311</td>\n",
       "      <td>1296.423152</td>\n",
       "      <td>1376.878830</td>\n",
       "      <td>1488.835033</td>\n",
       "      <td>1530.996415</td>\n",
       "      <td>1667.407479</td>\n",
       "      <td>1737.091382</td>\n",
       "      <td>...</td>\n",
       "      <td>1926.708518</td>\n",
       "      <td>2116.367142</td>\n",
       "      <td>849.233731</td>\n",
       "      <td>2550.935276</td>\n",
       "      <td>1457.042276</td>\n",
       "      <td>298.389238</td>\n",
       "      <td>0.000113</td>\n",
       "      <td>261.577366</td>\n",
       "      <td>0.759891</td>\n",
       "      <td>0.220560</td>\n",
       "    </tr>\n",
       "  </tbody>\n",
       "</table>\n",
       "<p>5 rows × 216 columns</p>\n",
       "</div>"
      ],
      "text/plain": [
       "      S2_B2_jan  S2_B3_jan    S2_B4_jan    S2_B5_jan    S2_B6_jan  \\\n",
       "S.No                                                                \n",
       "0    -17.649477 -24.327178  1111.603354  1190.158872  1361.861147   \n",
       "1    -14.559686 -19.936119  1764.795592  1856.603435  2156.740323   \n",
       "2    -14.208844 -21.404320  1210.320260  1246.028476  1523.531488   \n",
       "3    -13.895412 -21.169488  1550.755198  1541.339240  1732.355678   \n",
       "4    -11.562658 -13.594914  1171.571568  1143.268311  1296.423152   \n",
       "\n",
       "        S2_B7_jan    S2_B8_jan   S2_B8A_jan    S2_B9_jan   S2_B11_jan  ...  \\\n",
       "S.No                                                                   ...   \n",
       "0     1436.238138  1350.277481  1382.111848  1419.716749  1410.456550  ...   \n",
       "1     2633.317506  2731.894209  2878.742338  2621.323845  3201.553256  ...   \n",
       "2     1706.652761  2014.364032  2198.544215  2277.422666  2547.302707  ...   \n",
       "3     1828.669115  1876.796177  2001.004560  1996.979443  2212.820792  ...   \n",
       "4     1376.878830  1488.835033  1530.996415  1667.407479  1737.091382  ...   \n",
       "\n",
       "        S2_B9_dec   S2_B11_dec  S2_B12_dec    S1_VV_dec    S1_VH_dec  \\\n",
       "S.No                                                                   \n",
       "0      777.782928   966.513644  467.731680  1045.355257   633.790963   \n",
       "1     2026.702042  2292.479225  791.909589  2902.059945  1728.924349   \n",
       "2     2103.697056  2369.819453  893.709359  3217.008133  2158.612101   \n",
       "3     2101.697185  2372.614882  841.326953  3259.568699  1979.892417   \n",
       "4     1926.708518  2116.367142  849.233731  2550.935276  1457.042276   \n",
       "\n",
       "      ERA5_temperature_2m_dec  ERA5_total_precipitation_dec  \\\n",
       "S.No                                                          \n",
       "0                  296.952437                      0.000092   \n",
       "1                  298.468523                      0.000139   \n",
       "2                  298.045025                      0.000104   \n",
       "3                  298.534272                      0.000130   \n",
       "4                  298.389238                      0.000113   \n",
       "\n",
       "      topo_elevation_dec  topo_slope_dec  NDVI_dec  \n",
       "S.No                                                \n",
       "0             276.466775        0.765980  0.000600  \n",
       "1             187.130317        2.598537  0.217297  \n",
       "2             324.857357        0.758805  0.230539  \n",
       "3             184.338553        1.132985  0.214938  \n",
       "4             261.577366        0.759891  0.220560  \n",
       "\n",
       "[5 rows x 216 columns]"
      ]
     },
     "execution_count": 52,
     "metadata": {},
     "output_type": "execute_result"
    }
   ],
   "source": [
    "test_data.head()"
   ]
  },
  {
   "cell_type": "code",
   "execution_count": 53,
   "id": "8c6e8b28",
   "metadata": {},
   "outputs": [],
   "source": [
    "test_data = test_data.values"
   ]
  },
  {
   "cell_type": "code",
   "execution_count": 54,
   "id": "b34d9e42",
   "metadata": {},
   "outputs": [],
   "source": [
    "clf_predicts = clf.predict(test_data)"
   ]
  },
  {
   "cell_type": "code",
   "execution_count": 55,
   "id": "13fd82ce",
   "metadata": {},
   "outputs": [
    {
     "name": "stdout",
     "output_type": "stream",
     "text": [
      "class 0:  522\n",
      "class 1:  678\n"
     ]
    }
   ],
   "source": [
    "# Looking at the predictions:\n",
    "print('class 0: ', len(clf_predicts[clf_predicts == 0]))\n",
    "print('class 1: ', len(clf_predicts[clf_predicts == 1]))"
   ]
  },
  {
   "cell_type": "code",
   "execution_count": 56,
   "id": "3f5be34b",
   "metadata": {},
   "outputs": [],
   "source": [
    "# Saving the predictions:\n",
    "df = pd.DataFrame(clf_predicts.astype(int), columns = ['LABELS'])\n",
    "df.insert(0, 'S.No', np.array([i for i in range(len(test_data))]))\n",
    "df.to_csv('tmp_results.csv', index=False)"
   ]
  },
  {
   "cell_type": "code",
   "execution_count": null,
   "id": "b47a94e6",
   "metadata": {},
   "outputs": [],
   "source": []
  }
 ],
 "metadata": {
  "kernelspec": {
   "display_name": "Python 3 (ipykernel)",
   "language": "python",
   "name": "python3"
  },
  "language_info": {
   "codemirror_mode": {
    "name": "ipython",
    "version": 3
   },
   "file_extension": ".py",
   "mimetype": "text/x-python",
   "name": "python",
   "nbconvert_exporter": "python",
   "pygments_lexer": "ipython3",
   "version": "3.8.0"
  }
 },
 "nbformat": 4,
 "nbformat_minor": 5
}

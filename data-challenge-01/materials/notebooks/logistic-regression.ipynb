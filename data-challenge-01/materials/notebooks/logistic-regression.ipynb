{
 "cells": [
  {
   "cell_type": "code",
   "execution_count": 1,
   "id": "4f716a07",
   "metadata": {},
   "outputs": [],
   "source": [
    "# Importing packages\n",
    "\n",
    "import numpy as np\n",
    "import pandas as pd\n",
    "import matplotlib.pyplot as plt\n",
    "import seaborn as sns\n",
    "\n",
    "from sklearn.metrics import balanced_accuracy_score\n",
    "from sklearn.metrics import confusion_matrix\n",
    "from sklearn.metrics import plot_confusion_matrix"
   ]
  },
  {
   "cell_type": "markdown",
   "id": "6fbf9231",
   "metadata": {},
   "source": [
    "# Preparing traing and validtaion datasets\n",
    "\n",
    "For Logistic Regression, data is split into two sets, validation and training sets."
   ]
  },
  {
   "cell_type": "code",
   "execution_count": 2,
   "id": "fd395e89",
   "metadata": {},
   "outputs": [],
   "source": [
    "# Reading the training dataset.\n",
    "data_df = pd.read_csv('../data/train.csv')\n",
    "data = data_df.values\n",
    "\n",
    "# Spliting it into two separate datasets, validation and train.\n",
    "np.random.seed(2)\n",
    "inds = np.arange(data.shape[0])\n",
    "np.random.shuffle(inds)\n",
    "num_train = int(0.8 * data.shape[0])\n",
    "train_inds = inds[:num_train]\n",
    "val_inds = inds[num_train:]\n",
    "trainset = data[train_inds] \n",
    "valset = data[val_inds]\n",
    "\n",
    "# Normalzing the dataset using z-score.\n",
    "mu = trainset[:, :-1].mean(axis=0)\n",
    "sigma = trainset[:, :-1].std(axis=0)\n",
    "trainset[:, :-1] = (trainset[:, :-1] - mu)/sigma\n",
    "valset[:, :-1] = (valset[:, :-1] - mu)/sigma\n",
    "\n",
    "# Extracing features and labels of each dataset.\n",
    "train_X = trainset[:, :-1]\n",
    "train_y = trainset[:, -1]\n",
    "\n",
    "val_X = valset[:, :-1]\n",
    "val_y = valset[:, -1]"
   ]
  },
  {
   "cell_type": "code",
   "execution_count": 3,
   "id": "12c490ed",
   "metadata": {},
   "outputs": [
    {
     "data": {
      "text/html": [
       "<div>\n",
       "<style scoped>\n",
       "    .dataframe tbody tr th:only-of-type {\n",
       "        vertical-align: middle;\n",
       "    }\n",
       "\n",
       "    .dataframe tbody tr th {\n",
       "        vertical-align: top;\n",
       "    }\n",
       "\n",
       "    .dataframe thead th {\n",
       "        text-align: right;\n",
       "    }\n",
       "</style>\n",
       "<table border=\"1\" class=\"dataframe\">\n",
       "  <thead>\n",
       "    <tr style=\"text-align: right;\">\n",
       "      <th></th>\n",
       "      <th>count</th>\n",
       "      <th>mean</th>\n",
       "      <th>std</th>\n",
       "      <th>min</th>\n",
       "      <th>25%</th>\n",
       "      <th>50%</th>\n",
       "      <th>75%</th>\n",
       "      <th>max</th>\n",
       "    </tr>\n",
       "  </thead>\n",
       "  <tbody>\n",
       "    <tr>\n",
       "      <th>S.No</th>\n",
       "      <td>47760.0</td>\n",
       "      <td>2.387950e+04</td>\n",
       "      <td>1.378727e+04</td>\n",
       "      <td>0.000000e+00</td>\n",
       "      <td>1.193975e+04</td>\n",
       "      <td>2.387950e+04</td>\n",
       "      <td>3.581925e+04</td>\n",
       "      <td>4.775900e+04</td>\n",
       "    </tr>\n",
       "    <tr>\n",
       "      <th>lat</th>\n",
       "      <td>47760.0</td>\n",
       "      <td>-2.933507e+00</td>\n",
       "      <td>2.290675e+01</td>\n",
       "      <td>-3.109518e+01</td>\n",
       "      <td>-2.458279e+01</td>\n",
       "      <td>-3.872229e+00</td>\n",
       "      <td>2.176662e+01</td>\n",
       "      <td>2.405476e+01</td>\n",
       "    </tr>\n",
       "    <tr>\n",
       "      <th>lon</th>\n",
       "      <td>47760.0</td>\n",
       "      <td>2.692708e+02</td>\n",
       "      <td>4.104659e+01</td>\n",
       "      <td>2.290625e+02</td>\n",
       "      <td>2.418750e+02</td>\n",
       "      <td>2.531250e+02</td>\n",
       "      <td>2.771875e+02</td>\n",
       "      <td>3.543750e+02</td>\n",
       "    </tr>\n",
       "    <tr>\n",
       "      <th>TMQ</th>\n",
       "      <td>47760.0</td>\n",
       "      <td>3.483568e+01</td>\n",
       "      <td>1.286955e+01</td>\n",
       "      <td>6.960679e+00</td>\n",
       "      <td>2.403308e+01</td>\n",
       "      <td>3.489657e+01</td>\n",
       "      <td>4.472710e+01</td>\n",
       "      <td>8.064136e+01</td>\n",
       "    </tr>\n",
       "    <tr>\n",
       "      <th>U850</th>\n",
       "      <td>47760.0</td>\n",
       "      <td>-6.202928e-01</td>\n",
       "      <td>6.847307e+00</td>\n",
       "      <td>-5.880523e+01</td>\n",
       "      <td>-5.507042e+00</td>\n",
       "      <td>-1.671802e+00</td>\n",
       "      <td>3.621788e+00</td>\n",
       "      <td>3.227734e+01</td>\n",
       "    </tr>\n",
       "    <tr>\n",
       "      <th>V850</th>\n",
       "      <td>47760.0</td>\n",
       "      <td>1.040469e-02</td>\n",
       "      <td>4.332385e+00</td>\n",
       "      <td>-2.621691e+01</td>\n",
       "      <td>-2.307535e+00</td>\n",
       "      <td>1.571722e-01</td>\n",
       "      <td>2.341779e+00</td>\n",
       "      <td>5.806025e+01</td>\n",
       "    </tr>\n",
       "    <tr>\n",
       "      <th>UBOT</th>\n",
       "      <td>47760.0</td>\n",
       "      <td>-2.152124e+00</td>\n",
       "      <td>6.043284e+00</td>\n",
       "      <td>-5.826048e+01</td>\n",
       "      <td>-6.589128e+00</td>\n",
       "      <td>-2.687853e+00</td>\n",
       "      <td>1.720815e+00</td>\n",
       "      <td>3.021539e+01</td>\n",
       "    </tr>\n",
       "    <tr>\n",
       "      <th>VBOT</th>\n",
       "      <td>47760.0</td>\n",
       "      <td>-7.594555e-01</td>\n",
       "      <td>4.761139e+00</td>\n",
       "      <td>-2.076045e+01</td>\n",
       "      <td>-3.800056e+00</td>\n",
       "      <td>-7.749922e-01</td>\n",
       "      <td>2.072186e+00</td>\n",
       "      <td>3.110628e+01</td>\n",
       "    </tr>\n",
       "    <tr>\n",
       "      <th>QREFHT</th>\n",
       "      <td>47760.0</td>\n",
       "      <td>1.437782e-02</td>\n",
       "      <td>3.969209e-03</td>\n",
       "      <td>4.363584e-03</td>\n",
       "      <td>1.124537e-02</td>\n",
       "      <td>1.456635e-02</td>\n",
       "      <td>1.798656e-02</td>\n",
       "      <td>2.236619e-02</td>\n",
       "    </tr>\n",
       "    <tr>\n",
       "      <th>PS</th>\n",
       "      <td>47760.0</td>\n",
       "      <td>1.015541e+05</td>\n",
       "      <td>5.458636e+02</td>\n",
       "      <td>9.661160e+04</td>\n",
       "      <td>1.011521e+05</td>\n",
       "      <td>1.015280e+05</td>\n",
       "      <td>1.018875e+05</td>\n",
       "      <td>1.039970e+05</td>\n",
       "    </tr>\n",
       "    <tr>\n",
       "      <th>PSL</th>\n",
       "      <td>47760.0</td>\n",
       "      <td>1.015563e+05</td>\n",
       "      <td>5.448553e+02</td>\n",
       "      <td>9.661160e+04</td>\n",
       "      <td>1.011576e+05</td>\n",
       "      <td>1.015312e+05</td>\n",
       "      <td>1.018889e+05</td>\n",
       "      <td>1.039970e+05</td>\n",
       "    </tr>\n",
       "    <tr>\n",
       "      <th>T200</th>\n",
       "      <td>47760.0</td>\n",
       "      <td>2.168945e+02</td>\n",
       "      <td>2.307294e+00</td>\n",
       "      <td>2.088242e+02</td>\n",
       "      <td>2.155043e+02</td>\n",
       "      <td>2.171624e+02</td>\n",
       "      <td>2.184307e+02</td>\n",
       "      <td>2.291729e+02</td>\n",
       "    </tr>\n",
       "    <tr>\n",
       "      <th>T500</th>\n",
       "      <td>47760.0</td>\n",
       "      <td>2.643758e+02</td>\n",
       "      <td>3.507889e+00</td>\n",
       "      <td>2.491460e+02</td>\n",
       "      <td>2.629101e+02</td>\n",
       "      <td>2.652451e+02</td>\n",
       "      <td>2.668773e+02</td>\n",
       "      <td>2.735808e+02</td>\n",
       "    </tr>\n",
       "    <tr>\n",
       "      <th>PRECT</th>\n",
       "      <td>47760.0</td>\n",
       "      <td>4.629730e-08</td>\n",
       "      <td>2.385750e-07</td>\n",
       "      <td>-4.400000e-23</td>\n",
       "      <td>1.610000e-14</td>\n",
       "      <td>5.280000e-09</td>\n",
       "      <td>3.120000e-08</td>\n",
       "      <td>1.440000e-05</td>\n",
       "    </tr>\n",
       "    <tr>\n",
       "      <th>TS</th>\n",
       "      <td>47760.0</td>\n",
       "      <td>2.983095e+02</td>\n",
       "      <td>3.794155e+00</td>\n",
       "      <td>2.893307e+02</td>\n",
       "      <td>2.958607e+02</td>\n",
       "      <td>2.986852e+02</td>\n",
       "      <td>3.017601e+02</td>\n",
       "      <td>3.038698e+02</td>\n",
       "    </tr>\n",
       "    <tr>\n",
       "      <th>TREFHT</th>\n",
       "      <td>47760.0</td>\n",
       "      <td>2.968927e+02</td>\n",
       "      <td>4.021797e+00</td>\n",
       "      <td>2.854267e+02</td>\n",
       "      <td>2.942212e+02</td>\n",
       "      <td>2.973013e+02</td>\n",
       "      <td>3.004741e+02</td>\n",
       "      <td>3.043642e+02</td>\n",
       "    </tr>\n",
       "    <tr>\n",
       "      <th>Z1000</th>\n",
       "      <td>47760.0</td>\n",
       "      <td>1.355229e+02</td>\n",
       "      <td>4.251810e+01</td>\n",
       "      <td>6.333521e+01</td>\n",
       "      <td>1.018365e+02</td>\n",
       "      <td>1.337730e+02</td>\n",
       "      <td>1.626831e+02</td>\n",
       "      <td>3.281237e+02</td>\n",
       "    </tr>\n",
       "    <tr>\n",
       "      <th>Z200</th>\n",
       "      <td>47760.0</td>\n",
       "      <td>1.229162e+04</td>\n",
       "      <td>1.309269e+02</td>\n",
       "      <td>1.171825e+04</td>\n",
       "      <td>1.222998e+04</td>\n",
       "      <td>1.232195e+04</td>\n",
       "      <td>1.239146e+04</td>\n",
       "      <td>1.251103e+04</td>\n",
       "    </tr>\n",
       "    <tr>\n",
       "      <th>ZBOT</th>\n",
       "      <td>47760.0</td>\n",
       "      <td>6.537814e+01</td>\n",
       "      <td>1.041089e+00</td>\n",
       "      <td>6.243359e+01</td>\n",
       "      <td>6.465773e+01</td>\n",
       "      <td>6.547276e+01</td>\n",
       "      <td>6.632780e+01</td>\n",
       "      <td>6.713165e+01</td>\n",
       "    </tr>\n",
       "    <tr>\n",
       "      <th>time</th>\n",
       "      <td>47760.0</td>\n",
       "      <td>2.002393e+07</td>\n",
       "      <td>3.658871e+04</td>\n",
       "      <td>1.996061e+07</td>\n",
       "      <td>2.000091e+07</td>\n",
       "      <td>2.001121e+07</td>\n",
       "      <td>2.004082e+07</td>\n",
       "      <td>2.010103e+07</td>\n",
       "    </tr>\n",
       "    <tr>\n",
       "      <th>LABELS</th>\n",
       "      <td>47760.0</td>\n",
       "      <td>3.862647e-01</td>\n",
       "      <td>7.625111e-01</td>\n",
       "      <td>0.000000e+00</td>\n",
       "      <td>0.000000e+00</td>\n",
       "      <td>0.000000e+00</td>\n",
       "      <td>0.000000e+00</td>\n",
       "      <td>2.000000e+00</td>\n",
       "    </tr>\n",
       "  </tbody>\n",
       "</table>\n",
       "</div>"
      ],
      "text/plain": [
       "          count          mean           std           min           25%  \\\n",
       "S.No    47760.0  2.387950e+04  1.378727e+04  0.000000e+00  1.193975e+04   \n",
       "lat     47760.0 -2.933507e+00  2.290675e+01 -3.109518e+01 -2.458279e+01   \n",
       "lon     47760.0  2.692708e+02  4.104659e+01  2.290625e+02  2.418750e+02   \n",
       "TMQ     47760.0  3.483568e+01  1.286955e+01  6.960679e+00  2.403308e+01   \n",
       "U850    47760.0 -6.202928e-01  6.847307e+00 -5.880523e+01 -5.507042e+00   \n",
       "V850    47760.0  1.040469e-02  4.332385e+00 -2.621691e+01 -2.307535e+00   \n",
       "UBOT    47760.0 -2.152124e+00  6.043284e+00 -5.826048e+01 -6.589128e+00   \n",
       "VBOT    47760.0 -7.594555e-01  4.761139e+00 -2.076045e+01 -3.800056e+00   \n",
       "QREFHT  47760.0  1.437782e-02  3.969209e-03  4.363584e-03  1.124537e-02   \n",
       "PS      47760.0  1.015541e+05  5.458636e+02  9.661160e+04  1.011521e+05   \n",
       "PSL     47760.0  1.015563e+05  5.448553e+02  9.661160e+04  1.011576e+05   \n",
       "T200    47760.0  2.168945e+02  2.307294e+00  2.088242e+02  2.155043e+02   \n",
       "T500    47760.0  2.643758e+02  3.507889e+00  2.491460e+02  2.629101e+02   \n",
       "PRECT   47760.0  4.629730e-08  2.385750e-07 -4.400000e-23  1.610000e-14   \n",
       "TS      47760.0  2.983095e+02  3.794155e+00  2.893307e+02  2.958607e+02   \n",
       "TREFHT  47760.0  2.968927e+02  4.021797e+00  2.854267e+02  2.942212e+02   \n",
       "Z1000   47760.0  1.355229e+02  4.251810e+01  6.333521e+01  1.018365e+02   \n",
       "Z200    47760.0  1.229162e+04  1.309269e+02  1.171825e+04  1.222998e+04   \n",
       "ZBOT    47760.0  6.537814e+01  1.041089e+00  6.243359e+01  6.465773e+01   \n",
       "time    47760.0  2.002393e+07  3.658871e+04  1.996061e+07  2.000091e+07   \n",
       "LABELS  47760.0  3.862647e-01  7.625111e-01  0.000000e+00  0.000000e+00   \n",
       "\n",
       "                 50%           75%           max  \n",
       "S.No    2.387950e+04  3.581925e+04  4.775900e+04  \n",
       "lat    -3.872229e+00  2.176662e+01  2.405476e+01  \n",
       "lon     2.531250e+02  2.771875e+02  3.543750e+02  \n",
       "TMQ     3.489657e+01  4.472710e+01  8.064136e+01  \n",
       "U850   -1.671802e+00  3.621788e+00  3.227734e+01  \n",
       "V850    1.571722e-01  2.341779e+00  5.806025e+01  \n",
       "UBOT   -2.687853e+00  1.720815e+00  3.021539e+01  \n",
       "VBOT   -7.749922e-01  2.072186e+00  3.110628e+01  \n",
       "QREFHT  1.456635e-02  1.798656e-02  2.236619e-02  \n",
       "PS      1.015280e+05  1.018875e+05  1.039970e+05  \n",
       "PSL     1.015312e+05  1.018889e+05  1.039970e+05  \n",
       "T200    2.171624e+02  2.184307e+02  2.291729e+02  \n",
       "T500    2.652451e+02  2.668773e+02  2.735808e+02  \n",
       "PRECT   5.280000e-09  3.120000e-08  1.440000e-05  \n",
       "TS      2.986852e+02  3.017601e+02  3.038698e+02  \n",
       "TREFHT  2.973013e+02  3.004741e+02  3.043642e+02  \n",
       "Z1000   1.337730e+02  1.626831e+02  3.281237e+02  \n",
       "Z200    1.232195e+04  1.239146e+04  1.251103e+04  \n",
       "ZBOT    6.547276e+01  6.632780e+01  6.713165e+01  \n",
       "time    2.001121e+07  2.004082e+07  2.010103e+07  \n",
       "LABELS  0.000000e+00  0.000000e+00  2.000000e+00  "
      ]
     },
     "execution_count": 3,
     "metadata": {},
     "output_type": "execute_result"
    }
   ],
   "source": [
    "# Checking statistics of all features in the dataset, such as count, mean, and std.\n",
    "data_df.describe().T"
   ]
  },
  {
   "cell_type": "code",
   "execution_count": 4,
   "id": "dcb3827d",
   "metadata": {},
   "outputs": [
    {
     "data": {
      "text/plain": [
       "S.No      0\n",
       "lat       0\n",
       "lon       0\n",
       "TMQ       0\n",
       "U850      0\n",
       "V850      0\n",
       "UBOT      0\n",
       "VBOT      0\n",
       "QREFHT    0\n",
       "PS        0\n",
       "PSL       0\n",
       "T200      0\n",
       "T500      0\n",
       "PRECT     0\n",
       "TS        0\n",
       "TREFHT    0\n",
       "Z1000     0\n",
       "Z200      0\n",
       "ZBOT      0\n",
       "time      0\n",
       "LABELS    0\n",
       "dtype: int64"
      ]
     },
     "execution_count": 4,
     "metadata": {},
     "output_type": "execute_result"
    }
   ],
   "source": [
    "# Checking for Null values.\n",
    "data_df.isnull().sum()"
   ]
  },
  {
   "cell_type": "code",
   "execution_count": 5,
   "id": "9430d692",
   "metadata": {},
   "outputs": [
    {
     "data": {
      "image/png": "[encoded data removed]",
      "text/plain": [
       "<Figure size 432x288 with 1 Axes>"
      ]
     },
     "metadata": {
      "needs_background": "light"
     },
     "output_type": "display_data"
    }
   ],
   "source": [
    "# Plotting count-plot to see if the dataset is balanced or not.\n",
    "ax = sns.countplot(x=\"LABELS\", data=data_df)"
   ]
  },
  {
   "cell_type": "code",
   "execution_count": 6,
   "id": "f3b93e6b",
   "metadata": {},
   "outputs": [
    {
     "data": {
      "image/png": "[encoded data removed]",
      "text/plain": [
       "<Figure size 1368x1080 with 2 Axes>"
      ]
     },
     "metadata": {
      "needs_background": "light"
     },
     "output_type": "display_data"
    }
   ],
   "source": [
    "# Checking correlations between features.\n",
    "df_for_corr = data_df.iloc[:, :-1]\n",
    "\n",
    "f = plt.figure(figsize=(19, 15))\n",
    "plt.matshow(df_for_corr.corr(), fignum=f.number)\n",
    "plt.xticks(range(df_for_corr.select_dtypes(['number']).shape[1]), df_for_corr.select_dtypes(['number']).columns, fontsize=14, rotation=45)\n",
    "plt.yticks(range(df_for_corr.select_dtypes(['number']).shape[1]), df_for_corr.select_dtypes(['number']).columns, fontsize=14)\n",
    "cb = plt.colorbar()\n",
    "cb.ax.tick_params(labelsize=14)\n",
    "plt.title('Correlation Matrix', fontsize=16);"
   ]
  },
  {
   "cell_type": "markdown",
   "id": "5ab21614",
   "metadata": {},
   "source": [
    "# Logistic Regression Implementation\n",
    "\n",
    "#### I utilized on the implementation of Logistic Regression from this repository\n",
    "https://github.com/bamtak/machine-learning-implemetation-python"
   ]
  },
  {
   "cell_type": "code",
   "execution_count": 7,
   "id": "8da4c7e9",
   "metadata": {},
   "outputs": [],
   "source": [
    "# MultiClassLogisticRegression implementation\n",
    "class MultiClassLogisticRegression:\n",
    "\n",
    "    def __init__(self, n_iter=1000, threshold=1e-3):\n",
    "        self.n_iter = n_iter\n",
    "        self.threshold = threshold\n",
    "\n",
    "    def fit(self, X, y, batch_size=64, lr=0.001, rand_seed=42):\n",
    "        np.random.seed(rand_seed)\n",
    "        self.classes = np.unique(y)\n",
    "        self.class_labels = {c: i for i, c in enumerate(self.classes)}\n",
    "\n",
    "        X = self.add_bias(X)\n",
    "        y = self.one_hot(y)\n",
    "\n",
    "        self.loss = []\n",
    "        self.weights = np.zeros(shape=(len(self.classes), X.shape[1]))\n",
    "        self._fit_data(X, y, batch_size, lr)\n",
    "        return self\n",
    "\n",
    "    def _fit_data(self, X, y, batch_size, lr):\n",
    "        i = 0\n",
    "        while (not self.n_iter or i < self.n_iter):\n",
    "            current_loss = self.cross_entropy(y, self._predict(X))\n",
    "            self.loss.append(current_loss)\n",
    "\n",
    "            idx = np.random.choice(X.shape[0], batch_size)\n",
    "            X_batch, y_batch = X[idx], y[idx]\n",
    "\n",
    "            error = y_batch - self._predict(X_batch)\n",
    "\n",
    "            update = (lr * np.dot(error.T, X_batch))\n",
    "\n",
    "            self.weights += update\n",
    "\n",
    "            if np.abs(update).max() < self.threshold:\n",
    "                break\n",
    "\n",
    "            i += 1\n",
    "\n",
    "    def add_bias(self, X):\n",
    "        return np.insert(X, 0, 1, axis=1)\n",
    "\n",
    "    def one_hot(self, y):\n",
    "        return np.eye(len(self.classes))[np.vectorize(lambda c: self.class_labels[c])(y).reshape(-1)]\n",
    "\n",
    "    def cross_entropy(self, y, probs):\n",
    "        return -1 * np.mean(y * np.log(probs))\n",
    "\n",
    "    def predict(self, X):\n",
    "        return self._predict(self.add_bias(X))\n",
    "\n",
    "    def _predict(self, X):\n",
    "        pre_vals = np.dot(X, self.weights.T).reshape(-1, len(self.classes))\n",
    "        return self.softmax(pre_vals)\n",
    "\n",
    "    def softmax(self, z):\n",
    "        return np.exp(z) / np.sum(np.exp(z), axis=1).reshape(-1, 1)\n",
    "\n",
    "    def score(self, X, y):\n",
    "        return np.mean(self.predict_classes(X) == y)\n",
    "\n",
    "    def predict_classes(self, X):\n",
    "        self.probs_ = self.predict(X)\n",
    "        return np.vectorize(lambda c: self.classes[c])(np.argmax(self.probs_, axis=1))"
   ]
  },
  {
   "cell_type": "markdown",
   "id": "3aec091d",
   "metadata": {},
   "source": [
    "# Traing and Validating a Model"
   ]
  },
  {
   "cell_type": "code",
   "execution_count": 8,
   "id": "bb49ae3c",
   "metadata": {},
   "outputs": [],
   "source": [
    "lr = MultiClassLogisticRegression(threshold=1e-5, n_iter=10000)\n",
    "lr.fit(train_X, train_y[:, np.newaxis], lr=0.0001)\n",
    "y_pred = lr.predict_classes(val_X)"
   ]
  },
  {
   "cell_type": "code",
   "execution_count": 9,
   "id": "bb2bd0c4",
   "metadata": {},
   "outputs": [
    {
     "name": "stdout",
     "output_type": "stream",
     "text": [
      "val_accuracy: 0.8204564489112228\n",
      "val_balanced_accuracy: 0.7611363234813289\n",
      "confusion_matrix\n",
      " [[7290   22  237]\n",
      " [ 282  108    0]\n",
      " [1169    5  439]]\n"
     ]
    }
   ],
   "source": [
    "val_accuracy = lr.score(val_X, val_y)\n",
    "val_balanced_accuracy = balanced_accuracy_score(y_pred, val_y)\n",
    "print('val_accuracy:', val_accuracy)\n",
    "print('val_balanced_accuracy:', val_balanced_accuracy)\n",
    "print('confusion_matrix\\n', confusion_matrix(val_y, y_pred))"
   ]
  },
  {
   "cell_type": "code",
   "execution_count": 10,
   "id": "a1d723ed",
   "metadata": {},
   "outputs": [
    {
     "data": {
      "text/plain": [
       "<AxesSubplot:>"
      ]
     },
     "execution_count": 10,
     "metadata": {},
     "output_type": "execute_result"
    },
    {
     "data": {
      "image/png": "[encoded data removed]",
      "text/plain": [
       "<Figure size 432x288 with 2 Axes>"
      ]
     },
     "metadata": {
      "needs_background": "light"
     },
     "output_type": "display_data"
    }
   ],
   "source": [
    "conf_matrix = confusion_matrix(val_y, y_pred)\n",
    "sns.heatmap(conf_matrix, annot=True, fmt=\"d\")"
   ]
  },
  {
   "cell_type": "markdown",
   "id": "76f9f4bb",
   "metadata": {},
   "source": [
    "# Testing phase and writing results in file\n"
   ]
  },
  {
   "cell_type": "code",
   "execution_count": 11,
   "id": "daf087d0",
   "metadata": {},
   "outputs": [],
   "source": [
    "test_data = pd.read_csv('../data/test.csv')\n",
    "test_data = test_data.values\n",
    "test_data = (test_data - mu)/sigma\n",
    "\n",
    "test_predicts = lr.predict_classes(test_data)\n",
    "df = pd.DataFrame(test_predicts.astype(int), columns=['LABELS'])\n",
    "df.insert(0, 'S.No', np.array([i for i in range(len(test_data))]))\n",
    "df.to_csv('../predictions/logistic_regression.csv', index=False)"
   ]
  },
  {
   "cell_type": "markdown",
   "id": "f8f30638",
   "metadata": {},
   "source": [
    "### Loss curve"
   ]
  },
  {
   "cell_type": "code",
   "execution_count": 12,
   "id": "ffcee367",
   "metadata": {},
   "outputs": [
    {
     "data": {
      "image/png": "[encoded data removed]",
      "text/plain": [
       "<Figure size 576x432 with 1 Axes>"
      ]
     },
     "metadata": {
      "needs_background": "light"
     },
     "output_type": "display_data"
    }
   ],
   "source": [
    "fig = plt.figure(figsize=(8,6))\n",
    "plt.plot(np.arange(len(lr.loss)), lr.loss)\n",
    "plt.title(\"Development of loss during training\")\n",
    "plt.xlabel(\"Number of iterations\")\n",
    "plt.ylabel(\"Loss\")\n",
    "plt.show()"
   ]
  },
  {
   "cell_type": "markdown",
   "id": "a9ad51ff",
   "metadata": {},
   "source": [
    "# Testing other models"
   ]
  },
  {
   "cell_type": "code",
   "execution_count": 13,
   "id": "ddf17314",
   "metadata": {},
   "outputs": [],
   "source": [
    "from sklearn.naive_bayes import GaussianNB\n",
    "from sklearn.ensemble import RandomForestClassifier\n",
    "from sklearn.svm import SVC\n",
    "\n",
    "classifiers = [\n",
    "    ('naive bayes gaussian kernel', GaussianNB()),\n",
    "    ('random forests', RandomForestClassifier()),\n",
    "    ('svm linear', SVC(kernel='linear'))\n",
    "]"
   ]
  },
  {
   "cell_type": "code",
   "execution_count": 14,
   "id": "497247c7",
   "metadata": {},
   "outputs": [
    {
     "name": "stdout",
     "output_type": "stream",
     "text": [
      "naive bayes gaussian kernel\n",
      "val_acccuracy: 0.5767378559463987\n",
      "val_balanced_accuracy: 0.4805325848139643\n",
      "confusion_matrix\n",
      " [[4040 1604 1905]\n",
      " [  12  376    2]\n",
      " [ 483   37 1093]]\n",
      "\n",
      "random forests\n",
      "val_acccuracy: 0.8534338358458962\n",
      "val_balanced_accuracy: 0.736357003787525\n",
      "confusion_matrix\n",
      " [[6854  114  581]\n",
      " [ 125  250   15]\n",
      " [ 551   14 1048]]\n",
      "\n",
      "svm linear\n",
      "val_acccuracy: 0.8097780569514238\n",
      "val_balanced_accuracy: 0.7389567562258496\n",
      "confusion_matrix\n",
      " [[7424   46   79]\n",
      " [ 279  111    0]\n",
      " [1408    5  200]]\n",
      "\n"
     ]
    }
   ],
   "source": [
    "for model_name, model_instance in classifiers:\n",
    "    classifier = model_instance\n",
    "    classifier.fit(train_X, train_y)\n",
    "    val_acccuracy = classifier.score(val_X, val_y)\n",
    "    y_pred = classifier.predict(val_X)\n",
    "    val_balanced_accuracy = balanced_accuracy_score(y_pred, val_y)\n",
    "    print(model_name)\n",
    "    print('val_acccuracy:', val_acccuracy)\n",
    "    print('val_balanced_accuracy:', val_balanced_accuracy)\n",
    "    print('confusion_matrix\\n', confusion_matrix(val_y, y_pred))\n",
    "    print()"
   ]
  },
  {
   "cell_type": "code",
   "execution_count": null,
   "id": "f8deebfe",
   "metadata": {},
   "outputs": [],
   "source": []
  }
 ],
 "metadata": {
  "kernelspec": {
   "display_name": "Python 3",
   "language": "python",
   "name": "python3"
  },
  "language_info": {
   "codemirror_mode": {
    "name": "ipython",
    "version": 3
   },
   "file_extension": ".py",
   "mimetype": "text/x-python",
   "name": "python",
   "nbconvert_exporter": "python",
   "pygments_lexer": "ipython3",
   "version": "3.8.0"
  }
 },
 "nbformat": 4,
 "nbformat_minor": 5
}

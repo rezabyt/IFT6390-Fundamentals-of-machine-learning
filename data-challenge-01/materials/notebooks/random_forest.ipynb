{
 "cells": [
  {
   "cell_type": "markdown",
   "id": "083e387e",
   "metadata": {},
   "source": [
    "### Importing packages"
   ]
  },
  {
   "cell_type": "code",
   "execution_count": 1,
   "id": "4f716a07",
   "metadata": {},
   "outputs": [],
   "source": [
    "import numpy as np\n",
    "import pandas as pd\n",
    "import seaborn as sns\n",
    "\n",
    "from sklearn.metrics import balanced_accuracy_score\n",
    "from sklearn.metrics import confusion_matrix\n",
    "from sklearn.ensemble import RandomForestClassifier\n",
    "from sklearn.model_selection import GridSearchCV"
   ]
  },
  {
   "cell_type": "markdown",
   "id": "ac43d715",
   "metadata": {},
   "source": [
    "### Reading and Preparing the dataset"
   ]
  },
  {
   "cell_type": "code",
   "execution_count": 3,
   "id": "fd395e89",
   "metadata": {},
   "outputs": [],
   "source": [
    "# Reading and Preparing the dataset\n",
    "data = pd.read_csv('../data/train.csv')\n",
    "data = data.drop(['S.No'], axis=1)\n",
    "data = data.drop(['time'], axis=1)\n",
    "data = data.values\n",
    "\n",
    "np.random.seed(2)\n",
    "inds = np.arange(data.shape[0])\n",
    "np.random.shuffle(inds)\n",
    "num_train = int(0.95 * data.shape[0])\n",
    "train_inds = inds[:num_train]\n",
    "val_inds = inds[num_train:]\n",
    "\n",
    "trainset = data[train_inds] \n",
    "valset = data[val_inds]\n",
    "\n",
    "# Normalize train set to mean 0 and standard deviation 1 feature-wise.\n",
    "mu = trainset[:, :-1].mean(axis=0)\n",
    "sigma = trainset[:, :-1].std(axis=0)\n",
    "trainset[:, :-1] = (trainset[:, :-1] - mu)/sigma\n",
    "valset[:, :-1] = (valset[:, :-1] - mu)/sigma\n",
    "\n",
    "train_X = trainset[:, :-1]\n",
    "train_y = trainset[:, -1]\n",
    "\n",
    "val_X = valset[:, :-1]\n",
    "val_y = valset[:, -1]"
   ]
  },
  {
   "cell_type": "markdown",
   "id": "f923cdad",
   "metadata": {},
   "source": [
    "# Random Forest with Grid Searching"
   ]
  },
  {
   "cell_type": "code",
   "execution_count": 4,
   "id": "9e8ab5dd",
   "metadata": {},
   "outputs": [
    {
     "name": "stdout",
     "output_type": "stream",
     "text": [
      "accuracy 0.8881909547738693\n",
      "balanced_accuracy_score 0.8302123389594106\n",
      "confusion_matrix\n",
      " [[7183   48  318]\n",
      " [ 142  248    0]\n",
      " [ 550   10 1053]]\n"
     ]
    }
   ],
   "source": [
    "max_depth = [10, 20, 30, 40]\n",
    "min_samples_leaf = [2, 5, 6, 10, 20, 30, 40]\n",
    "\n",
    "param_grid = {\n",
    "    \"n_estimators\": [100],\n",
    "    \"max_depth\": max_depth,\n",
    "    \"min_samples_leaf\": min_samples_leaf,\n",
    "    \"bootstrap\": [True, False]\n",
    "}\n",
    "\n",
    "clf = GridSearchCV(RandomForestClassifier(), param_grid).fit(train_X, train_y)\n",
    "\n",
    "y_pred = clf.predict(val_X)\n",
    "print('accuracy', clf.score(val_X, val_y))\n",
    "print('balanced_accuracy_score', balanced_accuracy_score(y_pred, val_y))\n",
    "print('confusion_matrix\\n', confusion_matrix(val_y, y_pred))"
   ]
  },
  {
   "cell_type": "code",
   "execution_count": 5,
   "id": "69d9585b",
   "metadata": {},
   "outputs": [
    {
     "name": "stdout",
     "output_type": "stream",
     "text": [
      "best_params:\n",
      " {'bootstrap': True, 'max_depth': 30, 'min_samples_leaf': 20, 'n_estimators': 100}\n"
     ]
    }
   ],
   "source": [
    "print('best_params:\\n', clf.best_params_)"
   ]
  },
  {
   "cell_type": "code",
   "execution_count": 6,
   "id": "da0d0fbb",
   "metadata": {},
   "outputs": [
    {
     "data": {
      "text/plain": [
       "<AxesSubplot:>"
      ]
     },
     "execution_count": 6,
     "metadata": {},
     "output_type": "execute_result"
    },
    {
     "data": {
      "image/png": "[encoded data removed]",
      "text/plain": [
       "<Figure size 432x288 with 2 Axes>"
      ]
     },
     "metadata": {
      "needs_background": "light"
     },
     "output_type": "display_data"
    }
   ],
   "source": [
    "conf_matrix = confusion_matrix(val_y, y_pred)\n",
    "sns.heatmap(conf_matrix, annot=True, fmt=\"d\")"
   ]
  },
  {
   "cell_type": "markdown",
   "id": "7e54cc86",
   "metadata": {},
   "source": [
    "# Making predictions and saving the results in CSV file"
   ]
  },
  {
   "cell_type": "code",
   "execution_count": 7,
   "id": "bd7f938a",
   "metadata": {},
   "outputs": [],
   "source": [
    "def get_data_mean_sigma():\n",
    "    data = pd.read_csv('../data/train.csv')\n",
    "    data = data.drop(['S.No'], axis=1)\n",
    "    data = data.drop(['time'], axis=1)\n",
    "    data = data.values\n",
    "\n",
    "    X = data[:, :-1]\n",
    "    y = data[:, -1]\n",
    "\n",
    "    mu = X.mean(axis=0)\n",
    "    sigma = X.std(axis=0)\n",
    "\n",
    "    return mu, sigma\n",
    "\n",
    "test_data = pd.read_csv('../data/test.csv')\n",
    "test_data = test_data.drop(['S.No'], axis=1)\n",
    "test_data = test_data.drop(['time'], axis=1)\n",
    "test_data = test_data.values\n",
    "mu, sigma = get_data_mean_sigma()\n",
    "test_data = (test_data - mu)/sigma\n",
    "\n",
    "\n",
    "clf_predicts = clf.predict(test_data)\n",
    "df = pd.DataFrame(clf_predicts.astype(int), columns = ['LABELS'])\n",
    "df.insert(0, 'S.No', np.array([i for i in range(len(test_data))]))\n",
    "df.to_csv('../predictions/random_forest.csv', index=False)"
   ]
  }
 ],
 "metadata": {
  "kernelspec": {
   "display_name": "Python 3",
   "language": "python",
   "name": "python3"
  },
  "language_info": {
   "codemirror_mode": {
    "name": "ipython",
    "version": 3
   },
   "file_extension": ".py",
   "mimetype": "text/x-python",
   "name": "python",
   "nbconvert_exporter": "python",
   "pygments_lexer": "ipython3",
   "version": "3.8.0"
  }
 },
 "nbformat": 4,
 "nbformat_minor": 5
}
